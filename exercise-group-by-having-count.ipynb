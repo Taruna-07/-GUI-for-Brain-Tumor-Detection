{
 "cells": [
  {
   "cell_type": "markdown",
   "id": "88e8eaca",
   "metadata": {
    "papermill": {
     "duration": 0.004054,
     "end_time": "2025-01-15T00:43:14.613524",
     "exception": false,
     "start_time": "2025-01-15T00:43:14.609470",
     "status": "completed"
    },
    "tags": []
   },
   "source": [
    "**This notebook is an exercise in the [SQL](https://www.kaggle.com/learn/intro-to-sql) course.  You can reference the tutorial at [this link](https://www.kaggle.com/dansbecker/group-by-having-count).**\n",
    "\n",
    "---\n"
   ]
  },
  {
   "cell_type": "markdown",
   "id": "58624f1d",
   "metadata": {
    "papermill": {
     "duration": 0.00322,
     "end_time": "2025-01-15T00:43:14.620801",
     "exception": false,
     "start_time": "2025-01-15T00:43:14.617581",
     "status": "completed"
    },
    "tags": []
   },
   "source": [
    "# Introduction\n",
    "\n",
    "Queries with **GROUP BY** can be powerful. There are many small things that can trip you up (like the order of the clauses), but it will start to feel natural once you've done it a few times. Here, you'll write queries using **GROUP BY** to answer questions from the Hacker News dataset.\n",
    "\n",
    "Before you get started, run the following cell to set everything up:"
   ]
  },
  {
   "cell_type": "code",
   "execution_count": 1,
   "id": "c46efacc",
   "metadata": {
    "execution": {
     "iopub.execute_input": "2025-01-15T00:43:14.629207Z",
     "iopub.status.busy": "2025-01-15T00:43:14.628776Z",
     "iopub.status.idle": "2025-01-15T00:43:32.188658Z",
     "shell.execute_reply": "2025-01-15T00:43:32.187104Z"
    },
    "papermill": {
     "duration": 17.566751,
     "end_time": "2025-01-15T00:43:32.191015",
     "exception": false,
     "start_time": "2025-01-15T00:43:14.624264",
     "status": "completed"
    },
    "tags": []
   },
   "outputs": [
    {
     "name": "stdout",
     "output_type": "stream",
     "text": [
      "Using Kaggle's public dataset BigQuery integration.\n"
     ]
    },
    {
     "name": "stderr",
     "output_type": "stream",
     "text": [
      "/usr/local/lib/python3.10/dist-packages/google/cloud/bigquery/table.py:1727: UserWarning: BigQuery Storage module not found, fetch data with the REST endpoint instead.\n",
      "  warnings.warn(\n"
     ]
    },
    {
     "name": "stdout",
     "output_type": "stream",
     "text": [
      "Setup Complete\n"
     ]
    }
   ],
   "source": [
    "# Set up feedback system\n",
    "from learntools.core import binder\n",
    "binder.bind(globals())\n",
    "from learntools.sql.ex3 import *\n",
    "print(\"Setup Complete\")"
   ]
  },
  {
   "cell_type": "markdown",
   "id": "745f8f6d",
   "metadata": {
    "papermill": {
     "duration": 0.004088,
     "end_time": "2025-01-15T00:43:32.199539",
     "exception": false,
     "start_time": "2025-01-15T00:43:32.195451",
     "status": "completed"
    },
    "tags": []
   },
   "source": [
    "The code cell below fetches the `full` table from the `hacker_news` dataset.  We also preview the first five rows of the table."
   ]
  },
  {
   "cell_type": "code",
   "execution_count": 2,
   "id": "608d902f",
   "metadata": {
    "execution": {
     "iopub.execute_input": "2025-01-15T00:43:32.211045Z",
     "iopub.status.busy": "2025-01-15T00:43:32.210223Z",
     "iopub.status.idle": "2025-01-15T00:43:33.632740Z",
     "shell.execute_reply": "2025-01-15T00:43:33.631379Z"
    },
    "papermill": {
     "duration": 1.430899,
     "end_time": "2025-01-15T00:43:33.634859",
     "exception": false,
     "start_time": "2025-01-15T00:43:32.203960",
     "status": "completed"
    },
    "tags": []
   },
   "outputs": [
    {
     "name": "stdout",
     "output_type": "stream",
     "text": [
      "Using Kaggle's public dataset BigQuery integration.\n"
     ]
    },
    {
     "data": {
      "text/html": [
       "<div>\n",
       "<style scoped>\n",
       "    .dataframe tbody tr th:only-of-type {\n",
       "        vertical-align: middle;\n",
       "    }\n",
       "\n",
       "    .dataframe tbody tr th {\n",
       "        vertical-align: top;\n",
       "    }\n",
       "\n",
       "    .dataframe thead th {\n",
       "        text-align: right;\n",
       "    }\n",
       "</style>\n",
       "<table border=\"1\" class=\"dataframe\">\n",
       "  <thead>\n",
       "    <tr style=\"text-align: right;\">\n",
       "      <th></th>\n",
       "      <th>title</th>\n",
       "      <th>url</th>\n",
       "      <th>text</th>\n",
       "      <th>dead</th>\n",
       "      <th>by</th>\n",
       "      <th>score</th>\n",
       "      <th>time</th>\n",
       "      <th>timestamp</th>\n",
       "      <th>type</th>\n",
       "      <th>id</th>\n",
       "      <th>parent</th>\n",
       "      <th>descendants</th>\n",
       "      <th>ranking</th>\n",
       "      <th>deleted</th>\n",
       "    </tr>\n",
       "  </thead>\n",
       "  <tbody>\n",
       "    <tr>\n",
       "      <th>0</th>\n",
       "      <td>None</td>\n",
       "      <td>None</td>\n",
       "      <td>None</td>\n",
       "      <td>True</td>\n",
       "      <td>Adoum_Tech</td>\n",
       "      <td>2</td>\n",
       "      <td>1713995025</td>\n",
       "      <td>2024-04-24 21:43:45+00:00</td>\n",
       "      <td>story</td>\n",
       "      <td>40150086</td>\n",
       "      <td>&lt;NA&gt;</td>\n",
       "      <td>&lt;NA&gt;</td>\n",
       "      <td>&lt;NA&gt;</td>\n",
       "      <td>&lt;NA&gt;</td>\n",
       "    </tr>\n",
       "    <tr>\n",
       "      <th>1</th>\n",
       "      <td>None</td>\n",
       "      <td>None</td>\n",
       "      <td>None</td>\n",
       "      <td>True</td>\n",
       "      <td>belter</td>\n",
       "      <td>2</td>\n",
       "      <td>1713995286</td>\n",
       "      <td>2024-04-24 21:48:06+00:00</td>\n",
       "      <td>story</td>\n",
       "      <td>40150135</td>\n",
       "      <td>&lt;NA&gt;</td>\n",
       "      <td>&lt;NA&gt;</td>\n",
       "      <td>&lt;NA&gt;</td>\n",
       "      <td>&lt;NA&gt;</td>\n",
       "    </tr>\n",
       "    <tr>\n",
       "      <th>2</th>\n",
       "      <td>None</td>\n",
       "      <td>None</td>\n",
       "      <td>None</td>\n",
       "      <td>True</td>\n",
       "      <td>Rinzler89</td>\n",
       "      <td>1</td>\n",
       "      <td>1713995678</td>\n",
       "      <td>2024-04-24 21:54:38+00:00</td>\n",
       "      <td>story</td>\n",
       "      <td>40150207</td>\n",
       "      <td>&lt;NA&gt;</td>\n",
       "      <td>&lt;NA&gt;</td>\n",
       "      <td>&lt;NA&gt;</td>\n",
       "      <td>&lt;NA&gt;</td>\n",
       "    </tr>\n",
       "    <tr>\n",
       "      <th>3</th>\n",
       "      <td>None</td>\n",
       "      <td>None</td>\n",
       "      <td>None</td>\n",
       "      <td>True</td>\n",
       "      <td>stockstobuynow</td>\n",
       "      <td>1</td>\n",
       "      <td>1713995704</td>\n",
       "      <td>2024-04-24 21:55:04+00:00</td>\n",
       "      <td>story</td>\n",
       "      <td>40150212</td>\n",
       "      <td>&lt;NA&gt;</td>\n",
       "      <td>&lt;NA&gt;</td>\n",
       "      <td>&lt;NA&gt;</td>\n",
       "      <td>&lt;NA&gt;</td>\n",
       "    </tr>\n",
       "    <tr>\n",
       "      <th>4</th>\n",
       "      <td>None</td>\n",
       "      <td>None</td>\n",
       "      <td>None</td>\n",
       "      <td>True</td>\n",
       "      <td>FLMAN407</td>\n",
       "      <td>1</td>\n",
       "      <td>1713995772</td>\n",
       "      <td>2024-04-24 21:56:12+00:00</td>\n",
       "      <td>story</td>\n",
       "      <td>40150229</td>\n",
       "      <td>&lt;NA&gt;</td>\n",
       "      <td>&lt;NA&gt;</td>\n",
       "      <td>&lt;NA&gt;</td>\n",
       "      <td>&lt;NA&gt;</td>\n",
       "    </tr>\n",
       "  </tbody>\n",
       "</table>\n",
       "</div>"
      ],
      "text/plain": [
       "  title   url  text  dead              by  score        time  \\\n",
       "0  None  None  None  True      Adoum_Tech      2  1713995025   \n",
       "1  None  None  None  True          belter      2  1713995286   \n",
       "2  None  None  None  True       Rinzler89      1  1713995678   \n",
       "3  None  None  None  True  stockstobuynow      1  1713995704   \n",
       "4  None  None  None  True        FLMAN407      1  1713995772   \n",
       "\n",
       "                  timestamp   type        id  parent  descendants  ranking  \\\n",
       "0 2024-04-24 21:43:45+00:00  story  40150086    <NA>         <NA>     <NA>   \n",
       "1 2024-04-24 21:48:06+00:00  story  40150135    <NA>         <NA>     <NA>   \n",
       "2 2024-04-24 21:54:38+00:00  story  40150207    <NA>         <NA>     <NA>   \n",
       "3 2024-04-24 21:55:04+00:00  story  40150212    <NA>         <NA>     <NA>   \n",
       "4 2024-04-24 21:56:12+00:00  story  40150229    <NA>         <NA>     <NA>   \n",
       "\n",
       "   deleted  \n",
       "0     <NA>  \n",
       "1     <NA>  \n",
       "2     <NA>  \n",
       "3     <NA>  \n",
       "4     <NA>  "
      ]
     },
     "execution_count": 2,
     "metadata": {},
     "output_type": "execute_result"
    }
   ],
   "source": [
    "from google.cloud import bigquery\n",
    "\n",
    "# Create a \"Client\" object\n",
    "client = bigquery.Client()\n",
    "\n",
    "# Construct a reference to the \"hacker_news\" dataset\n",
    "dataset_ref = client.dataset(\"hacker_news\", project=\"bigquery-public-data\")\n",
    "\n",
    "# API request - fetch the dataset\n",
    "dataset = client.get_dataset(dataset_ref)\n",
    "\n",
    "# Construct a reference to the \"full\" table\n",
    "table_ref = dataset_ref.table(\"full\")\n",
    "\n",
    "# API request - fetch the table\n",
    "table = client.get_table(table_ref)\n",
    "\n",
    "# Preview the first five lines of the table\n",
    "client.list_rows(table, max_results=5).to_dataframe()"
   ]
  },
  {
   "cell_type": "markdown",
   "id": "c9d2c5b8",
   "metadata": {
    "papermill": {
     "duration": 0.004116,
     "end_time": "2025-01-15T00:43:33.643561",
     "exception": false,
     "start_time": "2025-01-15T00:43:33.639445",
     "status": "completed"
    },
    "tags": []
   },
   "source": [
    "# Exercises\n",
    "\n",
    "### 1) Prolific commenters\n",
    "\n",
    "Hacker News would like to send awards to everyone who has written more than 10,000 posts. Write a query that returns all authors with more than 10,000 posts as well as their post counts. Call the column with post counts `NumPosts`.\n",
    "\n",
    "In case sample query is helpful, here is a query you saw in the tutorial to answer a similar question:\n",
    "```\n",
    "query = \"\"\"\n",
    "        SELECT parent, COUNT(1) AS NumPosts\n",
    "        FROM `bigquery-public-data.hacker_news.full`\n",
    "        GROUP BY parent\n",
    "        HAVING COUNT(1) > 10\n",
    "        \"\"\"\n",
    "```"
   ]
  },
  {
   "cell_type": "code",
   "execution_count": 3,
   "id": "fe615d35",
   "metadata": {
    "execution": {
     "iopub.execute_input": "2025-01-15T00:43:33.653365Z",
     "iopub.status.busy": "2025-01-15T00:43:33.652956Z",
     "iopub.status.idle": "2025-01-15T00:43:34.748441Z",
     "shell.execute_reply": "2025-01-15T00:43:34.747065Z"
    },
    "papermill": {
     "duration": 1.102961,
     "end_time": "2025-01-15T00:43:34.750636",
     "exception": false,
     "start_time": "2025-01-15T00:43:33.647675",
     "status": "completed"
    },
    "tags": []
   },
   "outputs": [
    {
     "name": "stderr",
     "output_type": "stream",
     "text": [
      "/usr/local/lib/python3.10/dist-packages/google/cloud/bigquery/table.py:1727: UserWarning: BigQuery Storage module not found, fetch data with the REST endpoint instead.\n",
      "  warnings.warn(\n"
     ]
    },
    {
     "name": "stdout",
     "output_type": "stream",
     "text": [
      "  author  NumPosts\n",
      "0  Tichy     10060\n",
      "1  krapp     15268\n",
      "2   wslh     12776\n",
      "3  Tomte     29164\n",
      "4   ksec     14160\n"
     ]
    },
    {
     "data": {
      "application/javascript": [
       "parent.postMessage({\"jupyterEvent\": \"custom.exercise_interaction\", \"data\": {\"outcomeType\": 1, \"valueTowardsCompletion\": 0.5, \"interactionType\": 1, \"questionType\": 2, \"questionId\": \"1_ProlificCommenters\", \"learnToolsVersion\": \"0.3.4\", \"failureMessage\": \"\", \"exceptionClass\": \"\", \"trace\": \"\"}}, \"*\")"
      ],
      "text/plain": [
       "<IPython.core.display.Javascript object>"
      ]
     },
     "metadata": {},
     "output_type": "display_data"
    },
    {
     "data": {
      "text/markdown": [
       "<span style=\"color:#33cc33\">Correct</span>"
      ],
      "text/plain": [
       "Correct"
      ]
     },
     "metadata": {},
     "output_type": "display_data"
    }
   ],
   "source": [
    "# Query to select prolific commenters and post counts\n",
    "prolific_commenters_query = \"\"\"\n",
    "                            SELECT `by` AS author, COUNT(1) AS NumPosts\n",
    "                            FROM `bigquery-public-data.hacker_news.full`\n",
    "                            GROUP BY author\n",
    "                            HAVING COUNT(1) > 10000\n",
    "                            \"\"\" # Your code goes here\n",
    "\n",
    "# Set up the query (cancel the query if it would use too much of \n",
    "# your quota, with the limit set to 1 GB)\n",
    "safe_config = bigquery.QueryJobConfig(maximum_bytes_billed=10**10)\n",
    "query_job = client.query(prolific_commenters_query, job_config=safe_config)\n",
    "\n",
    "# API request - run the query, and return a pandas DataFrame\n",
    "prolific_commenters = query_job.to_dataframe()\n",
    "\n",
    "# View top few rows of results\n",
    "print(prolific_commenters.head())\n",
    "\n",
    "# Check your answer\n",
    "q_1.check()"
   ]
  },
  {
   "cell_type": "markdown",
   "id": "532ee405",
   "metadata": {
    "papermill": {
     "duration": 0.004449,
     "end_time": "2025-01-15T00:43:34.760198",
     "exception": false,
     "start_time": "2025-01-15T00:43:34.755749",
     "status": "completed"
    },
    "tags": []
   },
   "source": [
    "For the solution, uncomment the line below."
   ]
  },
  {
   "cell_type": "code",
   "execution_count": 4,
   "id": "22f67319",
   "metadata": {
    "execution": {
     "iopub.execute_input": "2025-01-15T00:43:34.772018Z",
     "iopub.status.busy": "2025-01-15T00:43:34.771653Z",
     "iopub.status.idle": "2025-01-15T00:43:34.780491Z",
     "shell.execute_reply": "2025-01-15T00:43:34.779099Z"
    },
    "papermill": {
     "duration": 0.017343,
     "end_time": "2025-01-15T00:43:34.782744",
     "exception": false,
     "start_time": "2025-01-15T00:43:34.765401",
     "status": "completed"
    },
    "tags": []
   },
   "outputs": [
    {
     "data": {
      "application/javascript": [
       "parent.postMessage({\"jupyterEvent\": \"custom.exercise_interaction\", \"data\": {\"interactionType\": 3, \"questionType\": 2, \"questionId\": \"1_ProlificCommenters\", \"learnToolsVersion\": \"0.3.4\", \"valueTowardsCompletion\": 0.0, \"failureMessage\": \"\", \"exceptionClass\": \"\", \"trace\": \"\", \"outcomeType\": 4}}, \"*\")"
      ],
      "text/plain": [
       "<IPython.core.display.Javascript object>"
      ]
     },
     "metadata": {},
     "output_type": "display_data"
    },
    {
     "data": {
      "text/markdown": [
       "<span style=\"color:#33cc99\">Solution:</span> \n",
       "```python\n",
       "\n",
       "prolific_commenters_query = \"\"\"\n",
       "                            SELECT `by` AS author, COUNT(1) AS NumPosts\n",
       "                            FROM `bigquery-public-data.hacker_news.full`\n",
       "                            GROUP BY author\n",
       "                            HAVING COUNT(1) > 10000\n",
       "                            \"\"\"\n",
       "\n",
       "```"
      ],
      "text/plain": [
       "Solution: \n",
       "```python\n",
       "\n",
       "prolific_commenters_query = \"\"\"\n",
       "                            SELECT `by` AS author, COUNT(1) AS NumPosts\n",
       "                            FROM `bigquery-public-data.hacker_news.full`\n",
       "                            GROUP BY author\n",
       "                            HAVING COUNT(1) > 10000\n",
       "                            \"\"\"\n",
       "\n",
       "```"
      ]
     },
     "metadata": {},
     "output_type": "display_data"
    }
   ],
   "source": [
    "q_1.solution()"
   ]
  },
  {
   "cell_type": "markdown",
   "id": "c0733375",
   "metadata": {
    "papermill": {
     "duration": 0.004172,
     "end_time": "2025-01-15T00:43:34.791883",
     "exception": false,
     "start_time": "2025-01-15T00:43:34.787711",
     "status": "completed"
    },
    "tags": []
   },
   "source": [
    "### 2) Deleted comments\n",
    "\n",
    "How many comments have been deleted? (If a comment was deleted, the `deleted` column in the table will have the value `True`.)"
   ]
  },
  {
   "cell_type": "code",
   "execution_count": 5,
   "id": "f6f95307",
   "metadata": {
    "execution": {
     "iopub.execute_input": "2025-01-15T00:43:34.802245Z",
     "iopub.status.busy": "2025-01-15T00:43:34.801892Z",
     "iopub.status.idle": "2025-01-15T00:43:35.936730Z",
     "shell.execute_reply": "2025-01-15T00:43:35.935131Z"
    },
    "papermill": {
     "duration": 1.142351,
     "end_time": "2025-01-15T00:43:35.938692",
     "exception": false,
     "start_time": "2025-01-15T00:43:34.796341",
     "status": "completed"
    },
    "tags": []
   },
   "outputs": [
    {
     "name": "stderr",
     "output_type": "stream",
     "text": [
      "/usr/local/lib/python3.10/dist-packages/google/cloud/bigquery/table.py:1727: UserWarning: BigQuery Storage module not found, fetch data with the REST endpoint instead.\n",
      "  warnings.warn(\n"
     ]
    },
    {
     "name": "stdout",
     "output_type": "stream",
     "text": [
      "   f0_\n",
      "0    0\n"
     ]
    }
   ],
   "source": [
    "query_deleted_post = \"\"\"\n",
    "                     SELECT COUNT(1)\n",
    "                     FROM `bigquery-public-data.hacker_news.full`\n",
    "                     WHERE deleted = True\n",
    "                     \"\"\"\n",
    "query_job = client.query(query_deleted_post)\n",
    "deleted_posts = query_job.to_dataframe()\n",
    "\n",
    "print(deleted_posts)\n",
    "\n"
   ]
  },
  {
   "cell_type": "code",
   "execution_count": 6,
   "id": "f58bb3ed",
   "metadata": {
    "execution": {
     "iopub.execute_input": "2025-01-15T00:43:35.950405Z",
     "iopub.status.busy": "2025-01-15T00:43:35.950017Z",
     "iopub.status.idle": "2025-01-15T00:43:35.958327Z",
     "shell.execute_reply": "2025-01-15T00:43:35.957325Z"
    },
    "papermill": {
     "duration": 0.016048,
     "end_time": "2025-01-15T00:43:35.960126",
     "exception": false,
     "start_time": "2025-01-15T00:43:35.944078",
     "status": "completed"
    },
    "tags": []
   },
   "outputs": [
    {
     "data": {
      "application/javascript": [
       "parent.postMessage({\"jupyterEvent\": \"custom.exercise_interaction\", \"data\": {\"outcomeType\": 1, \"valueTowardsCompletion\": 0.5, \"interactionType\": 1, \"questionType\": 1, \"questionId\": \"2_NumDeletedPosts\", \"learnToolsVersion\": \"0.3.4\", \"failureMessage\": \"\", \"exceptionClass\": \"\", \"trace\": \"\"}}, \"*\")"
      ],
      "text/plain": [
       "<IPython.core.display.Javascript object>"
      ]
     },
     "metadata": {},
     "output_type": "display_data"
    },
    {
     "data": {
      "text/markdown": [
       "<span style=\"color:#33cc33\">Correct</span>"
      ],
      "text/plain": [
       "Correct"
      ]
     },
     "metadata": {},
     "output_type": "display_data"
    }
   ],
   "source": [
    "num_deleted_posts = 0 # Put your answer here\n",
    "\n",
    "# Check your answer\n",
    "q_2.check()"
   ]
  },
  {
   "cell_type": "markdown",
   "id": "96decbfb",
   "metadata": {
    "papermill": {
     "duration": 0.00502,
     "end_time": "2025-01-15T00:43:35.970664",
     "exception": false,
     "start_time": "2025-01-15T00:43:35.965644",
     "status": "completed"
    },
    "tags": []
   },
   "source": [
    "For the solution, uncomment the line below."
   ]
  },
  {
   "cell_type": "code",
   "execution_count": 7,
   "id": "fa9caafa",
   "metadata": {
    "execution": {
     "iopub.execute_input": "2025-01-15T00:43:35.982301Z",
     "iopub.status.busy": "2025-01-15T00:43:35.981907Z",
     "iopub.status.idle": "2025-01-15T00:43:35.990299Z",
     "shell.execute_reply": "2025-01-15T00:43:35.989119Z"
    },
    "papermill": {
     "duration": 0.016218,
     "end_time": "2025-01-15T00:43:35.992041",
     "exception": false,
     "start_time": "2025-01-15T00:43:35.975823",
     "status": "completed"
    },
    "tags": []
   },
   "outputs": [
    {
     "data": {
      "application/javascript": [
       "parent.postMessage({\"jupyterEvent\": \"custom.exercise_interaction\", \"data\": {\"interactionType\": 3, \"questionType\": 1, \"questionId\": \"2_NumDeletedPosts\", \"learnToolsVersion\": \"0.3.4\", \"valueTowardsCompletion\": 0.0, \"failureMessage\": \"\", \"exceptionClass\": \"\", \"trace\": \"\", \"outcomeType\": 4}}, \"*\")"
      ],
      "text/plain": [
       "<IPython.core.display.Javascript object>"
      ]
     },
     "metadata": {},
     "output_type": "display_data"
    },
    {
     "data": {
      "text/markdown": [
       "<span style=\"color:#33cc99\">Solution:</span> \n",
       "```python\n",
       "\n",
       "# Query to determine how many posts were deleted\n",
       "deleted_posts_query = \"\"\"\n",
       "                      SELECT COUNT(1) AS num_deleted_posts\n",
       "                      FROM `bigquery-public-data.hacker_news.full`\n",
       "                      WHERE deleted = True\n",
       "                      \"\"\"\n",
       "                      \n",
       "# Set up the query\n",
       "query_job = client.query(deleted_posts_query)\n",
       "\n",
       "# API request - run the query, and return a pandas DataFrame\n",
       "deleted_posts = query_job.to_dataframe()\n",
       "\n",
       "# View results\n",
       "print(deleted_posts)\n",
       "\n",
       "num_deleted_posts = 0\n",
       "\n",
       "```"
      ],
      "text/plain": [
       "Solution: \n",
       "```python\n",
       "\n",
       "# Query to determine how many posts were deleted\n",
       "deleted_posts_query = \"\"\"\n",
       "                      SELECT COUNT(1) AS num_deleted_posts\n",
       "                      FROM `bigquery-public-data.hacker_news.full`\n",
       "                      WHERE deleted = True\n",
       "                      \"\"\"\n",
       "                      \n",
       "# Set up the query\n",
       "query_job = client.query(deleted_posts_query)\n",
       "\n",
       "# API request - run the query, and return a pandas DataFrame\n",
       "deleted_posts = query_job.to_dataframe()\n",
       "\n",
       "# View results\n",
       "print(deleted_posts)\n",
       "\n",
       "num_deleted_posts = 0\n",
       "\n",
       "```"
      ]
     },
     "metadata": {},
     "output_type": "display_data"
    }
   ],
   "source": [
    "q_2.solution()"
   ]
  },
  {
   "cell_type": "markdown",
   "id": "b670b913",
   "metadata": {
    "papermill": {
     "duration": 0.005503,
     "end_time": "2025-01-15T00:43:36.003206",
     "exception": false,
     "start_time": "2025-01-15T00:43:35.997703",
     "status": "completed"
    },
    "tags": []
   },
   "source": [
    "# Keep Going\n",
    "**[Click here](https://www.kaggle.com/dansbecker/order-by)** to move on and learn about the **ORDER BY** clause."
   ]
  },
  {
   "cell_type": "markdown",
   "id": "b9f5fc38",
   "metadata": {
    "papermill": {
     "duration": 0.00485,
     "end_time": "2025-01-15T00:43:36.013157",
     "exception": false,
     "start_time": "2025-01-15T00:43:36.008307",
     "status": "completed"
    },
    "tags": []
   },
   "source": [
    "---\n",
    "\n",
    "\n",
    "\n",
    "\n",
    "*Have questions or comments? Visit the [course discussion forum](https://www.kaggle.com/learn/intro-to-sql/discussion) to chat with other learners.*"
   ]
  }
 ],
 "metadata": {
  "kaggle": {
   "accelerator": "none",
   "dataSources": [
    {
     "datasetId": 6057,
     "sourceId": 285982,
     "sourceType": "datasetVersion"
    }
   ],
   "isGpuEnabled": false,
   "isInternetEnabled": false,
   "language": "python",
   "sourceType": "notebook"
  },
  "kernelspec": {
   "display_name": "Python 3",
   "language": "python",
   "name": "python3"
  },
  "language_info": {
   "codemirror_mode": {
    "name": "ipython",
    "version": 3
   },
   "file_extension": ".py",
   "mimetype": "text/x-python",
   "name": "python",
   "nbconvert_exporter": "python",
   "pygments_lexer": "ipython3",
   "version": "3.10.12"
  },
  "papermill": {
   "default_parameters": {},
   "duration": 26.547696,
   "end_time": "2025-01-15T00:43:37.743416",
   "environment_variables": {},
   "exception": null,
   "input_path": "__notebook__.ipynb",
   "output_path": "__notebook__.ipynb",
   "parameters": {},
   "start_time": "2025-01-15T00:43:11.195720",
   "version": "2.6.0"
  }
 },
 "nbformat": 4,
 "nbformat_minor": 5
}
